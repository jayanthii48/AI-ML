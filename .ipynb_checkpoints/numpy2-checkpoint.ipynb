{
 "cells": [
  {
   "cell_type": "code",
   "execution_count": 2,
   "id": "8c2a7a3d-a90c-4551-8a9f-fdddda34f9a4",
   "metadata": {},
   "outputs": [],
   "source": [
    "import numpy as np"
   ]
  },
  {
   "cell_type": "code",
   "execution_count": 4,
   "id": "7be820bf-d3be-42d4-903d-152500f86c8e",
   "metadata": {},
   "outputs": [
    {
     "data": {
      "text/plain": [
       "array([[11, 11],\n",
       "       [11, 11]])"
      ]
     },
     "execution_count": 4,
     "metadata": {},
     "output_type": "execute_result"
    }
   ],
   "source": [
    "arr=np.full((2,2),11)\n",
    "arr"
   ]
  },
  {
   "cell_type": "code",
   "execution_count": 9,
   "id": "9e346c96-9dcf-4750-acb5-e972121069a4",
   "metadata": {},
   "outputs": [],
   "source": [
    "arr=np.eye(5)"
   ]
  },
  {
   "cell_type": "code",
   "execution_count": 10,
   "id": "0d1346a2-c785-442c-91b5-febafd38f1a1",
   "metadata": {},
   "outputs": [
    {
     "data": {
      "text/plain": [
       "array([[1., 0., 0., 0., 0.],\n",
       "       [0., 1., 0., 0., 0.],\n",
       "       [0., 0., 1., 0., 0.],\n",
       "       [0., 0., 0., 1., 0.],\n",
       "       [0., 0., 0., 0., 1.]])"
      ]
     },
     "execution_count": 10,
     "metadata": {},
     "output_type": "execute_result"
    }
   ],
   "source": [
    "arr"
   ]
  },
  {
   "cell_type": "code",
   "execution_count": 13,
   "id": "35ed9c17-ea59-4400-a47a-ce059a3321a6",
   "metadata": {},
   "outputs": [
    {
     "data": {
      "text/plain": [
       "array([20, 24, 28])"
      ]
     },
     "execution_count": 13,
     "metadata": {},
     "output_type": "execute_result"
    }
   ],
   "source": [
    "arr=np.arange(20,30,4)\n",
    "arr"
   ]
  },
  {
   "cell_type": "code",
   "execution_count": 15,
   "id": "aba6e4d5-4a46-4f84-ae0a-0638ee8b8303",
   "metadata": {},
   "outputs": [
    {
     "data": {
      "text/plain": [
       "array([20.        , 23.33333333, 26.66666667, 30.        , 33.33333333,\n",
       "       36.66666667, 40.        , 43.33333333, 46.66666667, 50.        ])"
      ]
     },
     "execution_count": 15,
     "metadata": {},
     "output_type": "execute_result"
    }
   ],
   "source": [
    "arr=np.linspace(20,50,10)\n",
    "arr"
   ]
  },
  {
   "cell_type": "code",
   "execution_count": 18,
   "id": "a2392400-c189-46ce-a852-ccf6403e49d5",
   "metadata": {},
   "outputs": [
    {
     "data": {
      "text/plain": [
       "array([[190, 146, 186, 120, 170, 176],\n",
       "       [150, 151, 179, 133, 191, 157],\n",
       "       [125, 152, 179, 177, 123, 116],\n",
       "       [102, 191, 184, 126, 110, 167],\n",
       "       [100, 143, 175, 160, 132, 101],\n",
       "       [107, 136, 113, 187, 180, 144]], dtype=int32)"
      ]
     },
     "execution_count": 18,
     "metadata": {},
     "output_type": "execute_result"
    }
   ],
   "source": [
    "arr=np.random.randint(100,200,(6,6))\n",
    "arr"
   ]
  },
  {
   "cell_type": "code",
   "execution_count": 4,
   "id": "c688228d-d8f4-4ba2-ac63-0e71eb2795e2",
   "metadata": {},
   "outputs": [
    {
     "data": {
      "text/plain": [
       "array([2, 5, 6, 7, 8, 9])"
      ]
     },
     "execution_count": 4,
     "metadata": {},
     "output_type": "execute_result"
    }
   ],
   "source": [
    "exam=np.array([2,5,6,7,8,9])\n",
    "exam"
   ]
  },
  {
   "cell_type": "code",
   "execution_count": 5,
   "id": "5af1caf6-522b-444c-8650-c3a194b57fb6",
   "metadata": {},
   "outputs": [],
   "source": [
    "flat=exam.reshape(2,3)"
   ]
  },
  {
   "cell_type": "code",
   "execution_count": 23,
   "id": "5cdf3833-2fcc-4a49-8d66-9cc093f741b8",
   "metadata": {},
   "outputs": [
    {
     "data": {
      "text/plain": [
       "array([[2, 5, 6],\n",
       "       [7, 8, 9]])"
      ]
     },
     "execution_count": 23,
     "metadata": {},
     "output_type": "execute_result"
    }
   ],
   "source": [
    "flat"
   ]
  },
  {
   "cell_type": "code",
   "execution_count": 24,
   "id": "5c98cde6-5a2d-4b22-964d-a2d6d0872a3a",
   "metadata": {},
   "outputs": [
    {
     "data": {
      "text/plain": [
       "array([2, 5, 6, 7, 8, 9])"
      ]
     },
     "execution_count": 24,
     "metadata": {},
     "output_type": "execute_result"
    }
   ],
   "source": [
    "flat.flatten()"
   ]
  },
  {
   "cell_type": "code",
   "execution_count": 26,
   "id": "a9bafdb4-66ef-44af-ac2d-5c20f17d909b",
   "metadata": {},
   "outputs": [
    {
     "data": {
      "text/plain": [
       "array([[2, 7],\n",
       "       [5, 8],\n",
       "       [6, 9]])"
      ]
     },
     "execution_count": 26,
     "metadata": {},
     "output_type": "execute_result"
    }
   ],
   "source": [
    "flat.T"
   ]
  },
  {
   "cell_type": "code",
   "execution_count": 28,
   "id": "2a736db7-9523-424f-a9c3-5ae3042fe579",
   "metadata": {},
   "outputs": [
    {
     "data": {
      "text/plain": [
       "array([[ 4, 10, 12],\n",
       "       [14, 16, 18]])"
      ]
     },
     "execution_count": 28,
     "metadata": {},
     "output_type": "execute_result"
    }
   ],
   "source": [
    "flat+flat"
   ]
  },
  {
   "cell_type": "code",
   "execution_count": 29,
   "id": "911589ad-f0bb-4524-8ee7-d75714865d9e",
   "metadata": {},
   "outputs": [
    {
     "data": {
      "text/plain": [
       "array([[2, 5, 6],\n",
       "       [7, 8, 9]])"
      ]
     },
     "execution_count": 29,
     "metadata": {},
     "output_type": "execute_result"
    }
   ],
   "source": [
    "flat"
   ]
  },
  {
   "cell_type": "code",
   "execution_count": 30,
   "id": "5a11e2dc-6fc7-4e1d-9413-57487927efd1",
   "metadata": {},
   "outputs": [
    {
     "data": {
      "text/plain": [
       "array([2, 5, 6])"
      ]
     },
     "execution_count": 30,
     "metadata": {},
     "output_type": "execute_result"
    }
   ],
   "source": [
    "flat[0]"
   ]
  },
  {
   "cell_type": "code",
   "execution_count": 31,
   "id": "5c3358a4-2f25-4655-a559-3d0df38b0aad",
   "metadata": {},
   "outputs": [
    {
     "data": {
      "text/plain": [
       "np.int64(2)"
      ]
     },
     "execution_count": 31,
     "metadata": {},
     "output_type": "execute_result"
    }
   ],
   "source": [
    "flat[0,0]"
   ]
  },
  {
   "cell_type": "code",
   "execution_count": 6,
   "id": "4ced7f99-7df3-4882-adbd-35b6e2dbdbd9",
   "metadata": {},
   "outputs": [
    {
     "data": {
      "text/plain": [
       "array([[2, 5, 6],\n",
       "       [7, 8, 9]])"
      ]
     },
     "execution_count": 6,
     "metadata": {},
     "output_type": "execute_result"
    }
   ],
   "source": [
    "flat"
   ]
  },
  {
   "cell_type": "code",
   "execution_count": 7,
   "id": "c4c74b17-fa55-4dee-8b57-01f9c1b19f82",
   "metadata": {},
   "outputs": [
    {
     "data": {
      "text/plain": [
       "array([[2, 5, 6],\n",
       "       [7, 8, 9],\n",
       "       [2, 5, 6],\n",
       "       [7, 8, 9]])"
      ]
     },
     "execution_count": 7,
     "metadata": {},
     "output_type": "execute_result"
    }
   ],
   "source": [
    "np.concatenate([flat,flat])"
   ]
  },
  {
   "cell_type": "code",
   "execution_count": 8,
   "id": "a64f1985-0fd1-401f-9a6b-050ae42a3e37",
   "metadata": {},
   "outputs": [
    {
     "data": {
      "text/plain": [
       "array([[2, 5, 6, 2, 5, 6],\n",
       "       [7, 8, 9, 7, 8, 9]])"
      ]
     },
     "execution_count": 8,
     "metadata": {},
     "output_type": "execute_result"
    }
   ],
   "source": [
    "np.hstack([flat,flat])"
   ]
  },
  {
   "cell_type": "code",
   "execution_count": 13,
   "id": "f93998c2-c026-4bb4-953f-0df10657524d",
   "metadata": {},
   "outputs": [],
   "source": [
    "flat2=np.vstack([flat,flat])"
   ]
  },
  {
   "cell_type": "code",
   "execution_count": 14,
   "id": "a9aadc1c-5db3-4a5f-a208-10d8ea02b74c",
   "metadata": {},
   "outputs": [
    {
     "data": {
      "text/plain": [
       "array([[2, 5, 6],\n",
       "       [7, 8, 9],\n",
       "       [2, 5, 6],\n",
       "       [7, 8, 9]])"
      ]
     },
     "execution_count": 14,
     "metadata": {},
     "output_type": "execute_result"
    }
   ],
   "source": [
    "flat2"
   ]
  },
  {
   "cell_type": "code",
   "execution_count": 15,
   "id": "cb476054-6fb2-46f3-b7e4-f39dfacc0022",
   "metadata": {},
   "outputs": [
    {
     "name": "stdout",
     "output_type": "stream",
     "text": [
      "2\n"
     ]
    }
   ],
   "source": [
    "print(flat2[0,0])"
   ]
  },
  {
   "cell_type": "code",
   "execution_count": 17,
   "id": "f1d8af5c-2faa-4e6e-b02b-33b57e655a4e",
   "metadata": {},
   "outputs": [
    {
     "data": {
      "text/plain": [
       "array([[2, 5, 6],\n",
       "       [7, 8, 9]])"
      ]
     },
     "execution_count": 17,
     "metadata": {},
     "output_type": "execute_result"
    }
   ],
   "source": [
    "flat2[:2]"
   ]
  },
  {
   "cell_type": "code",
   "execution_count": 19,
   "id": "f5d3942d-83f3-46f1-bb81-7a9858c9d4b3",
   "metadata": {},
   "outputs": [
    {
     "data": {
      "text/plain": [
       "array([[2, 5, 6],\n",
       "       [7, 8, 9]])"
      ]
     },
     "execution_count": 19,
     "metadata": {},
     "output_type": "execute_result"
    }
   ],
   "source": [
    "flat2[2:]"
   ]
  },
  {
   "cell_type": "code",
   "execution_count": 23,
   "id": "a128ddbd-b421-418d-bfa0-526f6bb77240",
   "metadata": {},
   "outputs": [
    {
     "data": {
      "text/plain": [
       "array([], shape=(2, 0), dtype=int64)"
      ]
     },
     "execution_count": 23,
     "metadata": {},
     "output_type": "execute_result"
    }
   ],
   "source": [
    "flat2[0:2,1:1]"
   ]
  },
  {
   "cell_type": "code",
   "execution_count": null,
   "id": "6707c936-cc78-4fa9-af00-6f261d386e01",
   "metadata": {},
   "outputs": [],
   "source": []
  }
 ],
 "metadata": {
  "kernelspec": {
   "display_name": "Python 3 (ipykernel)",
   "language": "python",
   "name": "python3"
  },
  "language_info": {
   "codemirror_mode": {
    "name": "ipython",
    "version": 3
   },
   "file_extension": ".py",
   "mimetype": "text/x-python",
   "name": "python",
   "nbconvert_exporter": "python",
   "pygments_lexer": "ipython3",
   "version": "3.10.6"
  }
 },
 "nbformat": 4,
 "nbformat_minor": 5
}

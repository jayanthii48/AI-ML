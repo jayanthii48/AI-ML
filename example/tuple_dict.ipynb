{
 "cells": [
  {
   "cell_type": "code",
   "execution_count": 3,
   "id": "5478394d-6578-4fd6-bf93-52cc97b43e6e",
   "metadata": {},
   "outputs": [
    {
     "name": "stdout",
     "output_type": "stream",
     "text": [
      "[89, 76, 5, 7, 234, 90]\n",
      "[234, 90, 89, 76, 7, 5]\n",
      "[5, 7, 76, 89, 90, 234]\n"
     ]
    }
   ],
   "source": [
    "emp=[89,76,5,7,234,90]\n",
    "print(emp)\n",
    "emp.sort(reverse=True)\n",
    "print(emp)\n",
    "emp.sort()\n",
    "print(emp)"
   ]
  },
  {
   "cell_type": "code",
   "execution_count": 5,
   "id": "eab44180-9403-495d-801b-d5aaae902c4f",
   "metadata": {},
   "outputs": [
    {
     "data": {
      "text/plain": [
       "[90, 234, 7, 5, 76, 89]"
      ]
     },
     "execution_count": 5,
     "metadata": {},
     "output_type": "execute_result"
    }
   ],
   "source": [
    "emp=[89,76,5,7,234,90]\n",
    "emp.reverse()\n",
    "emp"
   ]
  },
  {
   "cell_type": "code",
   "execution_count": 6,
   "id": "0ee29cd3-1107-4c10-8184-4b3b58c48847",
   "metadata": {},
   "outputs": [
    {
     "data": {
      "text/plain": [
       "('A11', 'A12', 'A13', 'A14', 'A15')"
      ]
     },
     "execution_count": 6,
     "metadata": {},
     "output_type": "execute_result"
    }
   ],
   "source": [
    "reg_no=(\"A11\",\"A12\",\"A13\",\"A14\",\"A15\")\n",
    "reg_no"
   ]
  },
  {
   "cell_type": "code",
   "execution_count": null,
   "id": "53c1e1a2-5ea0-4179-95d2-b0dd25e2d166",
   "metadata": {},
   "outputs": [],
   "source": [
    "reg_no=(\"A11\",\"A12\",\"A13\",\"A14\",\"A15\")\n",
    "reg_no2=(\"A16\",\"A19\",\"A45\",\"A78\",\"A15\")"
   ]
  },
  {
   "cell_type": "code",
   "execution_count": null,
   "id": "35f1871b-625f-47af-b118-16e4aca71ffd",
   "metadata": {},
   "outputs": [],
   "source": [
    "#doubt 1:error"
   ]
  },
  {
   "cell_type": "code",
   "execution_count": 13,
   "id": "2a9e3401-c9c3-4ec7-a0a9-f96960c3670b",
   "metadata": {},
   "outputs": [
    {
     "name": "stdout",
     "output_type": "stream",
     "text": [
      "('A11', 'A12', 'A13', 'A14', 'A15')\n"
     ]
    },
    {
     "data": {
      "text/plain": [
       "('A11', 'A12', 'A13', 'A14', 'A15', 'A16', 'A19', 'A45', 'A78', 'A67')"
      ]
     },
     "execution_count": 13,
     "metadata": {},
     "output_type": "execute_result"
    }
   ],
   "source": [
    "total=reg_no+reg_no2\n",
    "print(reg_no)\n",
    "total"
   ]
  },
  {
   "cell_type": "code",
   "execution_count": 14,
   "id": "ac0de3e8-7e07-4b23-8a20-e9bf74ff3bf2",
   "metadata": {},
   "outputs": [
    {
     "data": {
      "text/plain": [
       "('A11',\n",
       " 'A12',\n",
       " 'A13',\n",
       " 'A14',\n",
       " 'A15',\n",
       " 'A11',\n",
       " 'A12',\n",
       " 'A13',\n",
       " 'A14',\n",
       " 'A15',\n",
       " 'A11',\n",
       " 'A12',\n",
       " 'A13',\n",
       " 'A14',\n",
       " 'A15')"
      ]
     },
     "execution_count": 14,
     "metadata": {},
     "output_type": "execute_result"
    }
   ],
   "source": [
    "rept=reg_no*3\n",
    "rept"
   ]
  },
  {
   "cell_type": "code",
   "execution_count": 15,
   "id": "486f95a5-851b-4445-8b09-72ce44a7700f",
   "metadata": {},
   "outputs": [
    {
     "data": {
      "text/plain": [
       "'A14'"
      ]
     },
     "execution_count": 15,
     "metadata": {},
     "output_type": "execute_result"
    }
   ],
   "source": [
    "reg_no[3]"
   ]
  },
  {
   "cell_type": "code",
   "execution_count": 17,
   "id": "6b581684-3a7e-4502-ae21-aa2f82dd9377",
   "metadata": {},
   "outputs": [],
   "source": [
    "reg_no=('A11', 'A12', 'A13', 'A14', 'A15','A15')"
   ]
  },
  {
   "cell_type": "code",
   "execution_count": 18,
   "id": "afcc6fec-4fd2-46a6-baed-77e79595a173",
   "metadata": {},
   "outputs": [
    {
     "data": {
      "text/plain": [
       "2"
      ]
     },
     "execution_count": 18,
     "metadata": {},
     "output_type": "execute_result"
    }
   ],
   "source": [
    "reg_no.count('A15')"
   ]
  },
  {
   "cell_type": "code",
   "execution_count": 19,
   "id": "c0c5d36c-4013-492d-8ae8-02063555c738",
   "metadata": {},
   "outputs": [
    {
     "data": {
      "text/plain": [
       "4"
      ]
     },
     "execution_count": 19,
     "metadata": {},
     "output_type": "execute_result"
    }
   ],
   "source": [
    "reg_no.index('A15')"
   ]
  },
  {
   "cell_type": "code",
   "execution_count": 21,
   "id": "475237dd-0d2f-4b4c-a415-f0d3124704ff",
   "metadata": {},
   "outputs": [],
   "source": [
    "aadhaar={\"name\":\"Joe\",\"city\":\"Trichy\",\"age\":12,\"phone\":45678996,\"gender\":\"Male\",\"No\":123456789,\"family\":[\"mot\",\"fat\",\"sis\",\"bro\"]}"
   ]
  },
  {
   "cell_type": "code",
   "execution_count": 22,
   "id": "bb1fcbe1-2db4-4364-8119-5650cf9b7b03",
   "metadata": {},
   "outputs": [
    {
     "name": "stdout",
     "output_type": "stream",
     "text": [
      "{'name': 'Joe', 'city': 'Trichy', 'age': 12, 'phone': 45678996, 'gender': 'Male', 'No': 123456789, 'family': ['mot', 'fat', 'sis', 'bro']}\n"
     ]
    }
   ],
   "source": [
    "print(aadhaar)"
   ]
  },
  {
   "cell_type": "code",
   "execution_count": 24,
   "id": "f91f58b2-7c17-4464-b03e-e101136d45b3",
   "metadata": {},
   "outputs": [
    {
     "data": {
      "text/plain": [
       "'Joe'"
      ]
     },
     "execution_count": 24,
     "metadata": {},
     "output_type": "execute_result"
    }
   ],
   "source": [
    "aadhaar['name']"
   ]
  },
  {
   "cell_type": "code",
   "execution_count": 25,
   "id": "d4744b31-665d-4043-baa6-28efe3c4e0aa",
   "metadata": {},
   "outputs": [
    {
     "data": {
      "text/plain": [
       "['mot', 'fat', 'sis', 'bro']"
      ]
     },
     "execution_count": 25,
     "metadata": {},
     "output_type": "execute_result"
    }
   ],
   "source": [
    "aadhaar['family']"
   ]
  },
  {
   "cell_type": "code",
   "execution_count": 28,
   "id": "173dd524-5acf-4ea1-ac01-23469f80df58",
   "metadata": {},
   "outputs": [
    {
     "data": {
      "text/plain": [
       "'no'"
      ]
     },
     "execution_count": 28,
     "metadata": {},
     "output_type": "execute_result"
    }
   ],
   "source": [
    "aadhaar.get(\"phonewe\",\"no\")"
   ]
  },
  {
   "cell_type": "code",
   "execution_count": 29,
   "id": "3884230a-8592-4277-b686-de88848b7481",
   "metadata": {},
   "outputs": [
    {
     "data": {
      "text/plain": [
       "{'name': 'Joe',\n",
       " 'city': 'Trichy',\n",
       " 'age': 12,\n",
       " 'phone': 45678996,\n",
       " 'gender': 'Male',\n",
       " 'No': 123456789,\n",
       " 'family': ['mot', 'fat', 'sis', 'bro'],\n",
       " 'country': 'India'}"
      ]
     },
     "execution_count": 29,
     "metadata": {},
     "output_type": "execute_result"
    }
   ],
   "source": [
    "#additing elements\n",
    "aadhaar['country']='India'\n",
    "aadhaar"
   ]
  },
  {
   "cell_type": "code",
   "execution_count": 32,
   "id": "d0aad14c-152c-420f-9eb8-0e69abf7d162",
   "metadata": {},
   "outputs": [
    {
     "data": {
      "text/plain": [
       "{'name': 'Joe',\n",
       " 'city': 'Trichy',\n",
       " 'age': 12,\n",
       " 'phone': 1111111,\n",
       " 'gender': 'Male',\n",
       " 'No': 123456789,\n",
       " 'family': ['mot', 'fat', 'sis', 'bro'],\n",
       " 'country': 'India'}"
      ]
     },
     "execution_count": 32,
     "metadata": {},
     "output_type": "execute_result"
    }
   ],
   "source": [
    "#update\n",
    "aadhaar['phone']=1111111\n",
    "aadhaar"
   ]
  },
  {
   "cell_type": "code",
   "execution_count": 34,
   "id": "345efcb8-1374-4dd6-8ae5-7221d85f2cbc",
   "metadata": {},
   "outputs": [
    {
     "ename": "KeyError",
     "evalue": "'phone'",
     "output_type": "error",
     "traceback": [
      "\u001b[1;31m---------------------------------------------------------------------------\u001b[0m",
      "\u001b[1;31mKeyError\u001b[0m                                  Traceback (most recent call last)",
      "Cell \u001b[1;32mIn[34], line 1\u001b[0m\n\u001b[1;32m----> 1\u001b[0m \u001b[38;5;28;01mdel\u001b[39;00m aadhaar[\u001b[38;5;124m'\u001b[39m\u001b[38;5;124mphone\u001b[39m\u001b[38;5;124m'\u001b[39m]\n\u001b[0;32m      2\u001b[0m aadhaar\n",
      "\u001b[1;31mKeyError\u001b[0m: 'phone'"
     ]
    }
   ],
   "source": [
    "del aadhaar['phone']\n",
    "aadhaar"
   ]
  },
  {
   "cell_type": "code",
   "execution_count": 35,
   "id": "ad5e99ab-1b46-49dd-8c36-669796bdba66",
   "metadata": {},
   "outputs": [],
   "source": [
    "family_mem=aadhaar.pop('family')"
   ]
  },
  {
   "cell_type": "code",
   "execution_count": 36,
   "id": "e956a6bc-81de-4c47-b510-a5d5fea16c23",
   "metadata": {},
   "outputs": [
    {
     "data": {
      "text/plain": [
       "['mot', 'fat', 'sis', 'bro']"
      ]
     },
     "execution_count": 36,
     "metadata": {},
     "output_type": "execute_result"
    }
   ],
   "source": [
    "family_mem"
   ]
  },
  {
   "cell_type": "code",
   "execution_count": 37,
   "id": "d4bef1b3-2ca2-410d-8b83-51899661bafb",
   "metadata": {},
   "outputs": [
    {
     "data": {
      "text/plain": [
       "{'name': 'Joe',\n",
       " 'city': 'Trichy',\n",
       " 'age': 12,\n",
       " 'gender': 'Male',\n",
       " 'No': 123456789,\n",
       " 'country': 'India'}"
      ]
     },
     "execution_count": 37,
     "metadata": {},
     "output_type": "execute_result"
    }
   ],
   "source": [
    "aadhaar"
   ]
  },
  {
   "cell_type": "code",
   "execution_count": 38,
   "id": "61da7345-13a4-451a-b73d-f8dca2685c58",
   "metadata": {},
   "outputs": [],
   "source": [
    "aadhaar.clear()"
   ]
  },
  {
   "cell_type": "code",
   "execution_count": 39,
   "id": "c1896711-f073-467b-94b3-60abaf13add6",
   "metadata": {},
   "outputs": [
    {
     "data": {
      "text/plain": [
       "{}"
      ]
     },
     "execution_count": 39,
     "metadata": {},
     "output_type": "execute_result"
    }
   ],
   "source": [
    "aadhaar"
   ]
  },
  {
   "cell_type": "code",
   "execution_count": 40,
   "id": "2612f08e-ecb6-4b07-856f-c5c2b9fe2b58",
   "metadata": {},
   "outputs": [],
   "source": [
    "aadhaar={\"name\":\"Joe\",\"city\":\"Trichy\",\"age\":12,\"phone\":45678996,\"gender\":\"Male\",\"No\":123456789,\"family\":[\"mot\",\"fat\",\"sis\",\"bro\"]}"
   ]
  },
  {
   "cell_type": "code",
   "execution_count": 41,
   "id": "edf355c8-2bb3-424f-9d2a-1e49c90c7c3d",
   "metadata": {},
   "outputs": [
    {
     "data": {
      "text/plain": [
       "{'name': 'Joe',\n",
       " 'city': 'Trichy',\n",
       " 'age': 12,\n",
       " 'phone': 45678996,\n",
       " 'gender': 'Male',\n",
       " 'No': 123456789,\n",
       " 'family': ['mot', 'fat', 'sis', 'bro']}"
      ]
     },
     "execution_count": 41,
     "metadata": {},
     "output_type": "execute_result"
    }
   ],
   "source": [
    "aadhaar"
   ]
  },
  {
   "cell_type": "code",
   "execution_count": 42,
   "id": "b8316939-3174-4878-955f-82a5ec380577",
   "metadata": {},
   "outputs": [
    {
     "data": {
      "text/plain": [
       "dict_keys(['name', 'city', 'age', 'phone', 'gender', 'No', 'family'])"
      ]
     },
     "execution_count": 42,
     "metadata": {},
     "output_type": "execute_result"
    }
   ],
   "source": [
    "aadhaar.keys()"
   ]
  },
  {
   "cell_type": "code",
   "execution_count": 43,
   "id": "33b6494b-5d08-4962-8f40-cc5276614e61",
   "metadata": {},
   "outputs": [
    {
     "data": {
      "text/plain": [
       "dict_values(['Joe', 'Trichy', 12, 45678996, 'Male', 123456789, ['mot', 'fat', 'sis', 'bro']])"
      ]
     },
     "execution_count": 43,
     "metadata": {},
     "output_type": "execute_result"
    }
   ],
   "source": [
    "aadhaar.values()"
   ]
  },
  {
   "cell_type": "code",
   "execution_count": 44,
   "id": "08db5eca-8b47-42be-97ab-eaad5792136e",
   "metadata": {},
   "outputs": [
    {
     "data": {
      "text/plain": [
       "dict_items([('name', 'Joe'), ('city', 'Trichy'), ('age', 12), ('phone', 45678996), ('gender', 'Male'), ('No', 123456789), ('family', ['mot', 'fat', 'sis', 'bro'])])"
      ]
     },
     "execution_count": 44,
     "metadata": {},
     "output_type": "execute_result"
    }
   ],
   "source": [
    "aadhaar.items()"
   ]
  },
  {
   "cell_type": "code",
   "execution_count": 45,
   "id": "2ab02d11-135e-4ffc-b5e2-ae0a367f9426",
   "metadata": {},
   "outputs": [
    {
     "data": {
      "text/plain": [
       "7"
      ]
     },
     "execution_count": 45,
     "metadata": {},
     "output_type": "execute_result"
    }
   ],
   "source": [
    "len(aadhaar)"
   ]
  },
  {
   "cell_type": "code",
   "execution_count": null,
   "id": "ec9c42b3-892a-4f4b-b101-106b87aa6cf1",
   "metadata": {},
   "outputs": [],
   "source": []
  }
 ],
 "metadata": {
  "kernelspec": {
   "display_name": "Python 3 (ipykernel)",
   "language": "python",
   "name": "python3"
  },
  "language_info": {
   "codemirror_mode": {
    "name": "ipython",
    "version": 3
   },
   "file_extension": ".py",
   "mimetype": "text/x-python",
   "name": "python",
   "nbconvert_exporter": "python",
   "pygments_lexer": "ipython3",
   "version": "3.10.6"
  }
 },
 "nbformat": 4,
 "nbformat_minor": 5
}

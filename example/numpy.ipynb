{
 "cells": [
  {
   "cell_type": "code",
   "execution_count": 1,
   "id": "131237fe-0fe9-4f41-96b4-b81430fa61d7",
   "metadata": {},
   "outputs": [],
   "source": [
    "import numpy as npp"
   ]
  },
  {
   "cell_type": "code",
   "execution_count": 5,
   "id": "c72774fd-3411-4d66-9203-c5946dc3c4b1",
   "metadata": {},
   "outputs": [],
   "source": [
    "exam= npp.array([45,67,67,78])"
   ]
  },
  {
   "cell_type": "code",
   "execution_count": 6,
   "id": "a37a365c-335e-479b-92e8-0de1957181d0",
   "metadata": {},
   "outputs": [
    {
     "data": {
      "text/plain": [
       "array([45, 67, 67, 78])"
      ]
     },
     "execution_count": 6,
     "metadata": {},
     "output_type": "execute_result"
    }
   ],
   "source": [
    "exam"
   ]
  },
  {
   "cell_type": "code",
   "execution_count": 7,
   "id": "862c8a4d-d411-440f-802e-d271c3310428",
   "metadata": {},
   "outputs": [
    {
     "data": {
      "text/plain": [
       "numpy.ndarray"
      ]
     },
     "execution_count": 7,
     "metadata": {},
     "output_type": "execute_result"
    }
   ],
   "source": [
    "type(exam)"
   ]
  },
  {
   "cell_type": "code",
   "execution_count": 8,
   "id": "963c48ec-2d73-4ea1-bfa4-0422954badf3",
   "metadata": {},
   "outputs": [],
   "source": [
    "ser=[34,'yu']"
   ]
  },
  {
   "cell_type": "code",
   "execution_count": 9,
   "id": "005759e2-125e-4e18-ab7f-0ad75468f313",
   "metadata": {},
   "outputs": [
    {
     "data": {
      "text/plain": [
       "list"
      ]
     },
     "execution_count": 9,
     "metadata": {},
     "output_type": "execute_result"
    }
   ],
   "source": [
    "type(ser)"
   ]
  },
  {
   "cell_type": "code",
   "execution_count": 17,
   "id": "31d3e133-bdb7-4dcb-b4c3-c99aaa6904e6",
   "metadata": {},
   "outputs": [],
   "source": [
    "exam= npp.array([[45,67,67,78],[34,67,85,45],[1,1,1,1]])"
   ]
  },
  {
   "cell_type": "code",
   "execution_count": 18,
   "id": "c1596722-8ab4-4563-b86a-a09f8ff61bc5",
   "metadata": {},
   "outputs": [
    {
     "data": {
      "text/plain": [
       "array([[45, 67, 67, 78],\n",
       "       [34, 67, 85, 45],\n",
       "       [ 1,  1,  1,  1]])"
      ]
     },
     "execution_count": 18,
     "metadata": {},
     "output_type": "execute_result"
    }
   ],
   "source": [
    "exam"
   ]
  },
  {
   "cell_type": "code",
   "execution_count": 20,
   "id": "7172dae6-358c-4b01-a098-c7f2cda7a1cd",
   "metadata": {},
   "outputs": [],
   "source": [
    "exam= npp.array([[[45,67,67,78],[34,67,85,45],[1,1,1,1]],[[45,67,67,78],[34,67,85,45],[1,1,1,1]]])"
   ]
  },
  {
   "cell_type": "code",
   "execution_count": 21,
   "id": "8902543b-719b-4e16-9efd-2c97584cc27c",
   "metadata": {},
   "outputs": [
    {
     "data": {
      "text/plain": [
       "array([[[45, 67, 67, 78],\n",
       "        [34, 67, 85, 45],\n",
       "        [ 1,  1,  1,  1]],\n",
       "\n",
       "       [[45, 67, 67, 78],\n",
       "        [34, 67, 85, 45],\n",
       "        [ 1,  1,  1,  1]]])"
      ]
     },
     "execution_count": 21,
     "metadata": {},
     "output_type": "execute_result"
    }
   ],
   "source": [
    "exam"
   ]
  },
  {
   "cell_type": "code",
   "execution_count": 23,
   "id": "2690c2a7-8ee5-47f7-8e29-9a9dae5383ac",
   "metadata": {},
   "outputs": [],
   "source": [
    "zer=npp.zeros((4,4))"
   ]
  },
  {
   "cell_type": "code",
   "execution_count": 24,
   "id": "a9519e5b-1f13-41f6-9e95-082dfb62aeee",
   "metadata": {},
   "outputs": [
    {
     "data": {
      "text/plain": [
       "array([[0., 0., 0., 0.],\n",
       "       [0., 0., 0., 0.],\n",
       "       [0., 0., 0., 0.],\n",
       "       [0., 0., 0., 0.]])"
      ]
     },
     "execution_count": 24,
     "metadata": {},
     "output_type": "execute_result"
    }
   ],
   "source": [
    "zer"
   ]
  },
  {
   "cell_type": "code",
   "execution_count": 25,
   "id": "4e8a54e9-4a11-4c87-a00f-bf6865f9279c",
   "metadata": {},
   "outputs": [
    {
     "data": {
      "text/plain": [
       "array([[1., 1., 1.],\n",
       "       [1., 1., 1.],\n",
       "       [1., 1., 1.]])"
      ]
     },
     "execution_count": 25,
     "metadata": {},
     "output_type": "execute_result"
    }
   ],
   "source": [
    "one=npp.ones((3,3))\n",
    "one"
   ]
  },
  {
   "cell_type": "code",
   "execution_count": 38,
   "id": "aad75e4e-b664-428f-898d-628bb14e907b",
   "metadata": {},
   "outputs": [],
   "source": [
    "num=npp.random.rand(2,2)*1000"
   ]
  },
  {
   "cell_type": "code",
   "execution_count": 39,
   "id": "39594f58-3966-4785-ab64-dc1e1fa9f71a",
   "metadata": {},
   "outputs": [
    {
     "data": {
      "text/plain": [
       "array([[206.17898289, 232.51737119],\n",
       "       [986.84042553, 722.2606704 ]])"
      ]
     },
     "execution_count": 39,
     "metadata": {},
     "output_type": "execute_result"
    }
   ],
   "source": [
    "num"
   ]
  },
  {
   "cell_type": "code",
   "execution_count": 40,
   "id": "dca454b5-bdff-47d8-bc8c-9d914ca38f81",
   "metadata": {},
   "outputs": [],
   "source": [
    "exam= npp.array([[[45,67,67,78],[34,67,85,45],[1,1,1,1]],[[45,67,67,78],[34,67,85,45],[1,1,1,1]]])"
   ]
  },
  {
   "cell_type": "code",
   "execution_count": 43,
   "id": "e69ae442-db9c-4ee6-8c55-9412cdeeb9f6",
   "metadata": {},
   "outputs": [
    {
     "data": {
      "text/plain": [
       "(2, 2)"
      ]
     },
     "execution_count": 43,
     "metadata": {},
     "output_type": "execute_result"
    }
   ],
   "source": [
    "num.shape"
   ]
  },
  {
   "cell_type": "code",
   "execution_count": 45,
   "id": "04ba68c8-e8b1-4110-84f6-68b234e26791",
   "metadata": {},
   "outputs": [
    {
     "data": {
      "text/plain": [
       "24"
      ]
     },
     "execution_count": 45,
     "metadata": {},
     "output_type": "execute_result"
    }
   ],
   "source": [
    "exam.size"
   ]
  },
  {
   "cell_type": "code",
   "execution_count": 46,
   "id": "41c0684c-21ec-4dfe-9cc6-6ba1fa44be05",
   "metadata": {},
   "outputs": [
    {
     "data": {
      "text/plain": [
       "dtype('int64')"
      ]
     },
     "execution_count": 46,
     "metadata": {},
     "output_type": "execute_result"
    }
   ],
   "source": [
    "exam.dtype"
   ]
  },
  {
   "cell_type": "code",
   "execution_count": 47,
   "id": "cadbd3bc-4716-4ad5-9fe6-8e5279961056",
   "metadata": {},
   "outputs": [
    {
     "data": {
      "text/plain": [
       "2"
      ]
     },
     "execution_count": 47,
     "metadata": {},
     "output_type": "execute_result"
    }
   ],
   "source": [
    "num.ndim"
   ]
  },
  {
   "cell_type": "code",
   "execution_count": 48,
   "id": "dbbb613f-b4f0-42e8-a221-6579f5d5664b",
   "metadata": {},
   "outputs": [
    {
     "data": {
      "text/plain": [
       "3"
      ]
     },
     "execution_count": 48,
     "metadata": {},
     "output_type": "execute_result"
    }
   ],
   "source": [
    "exam.ndim"
   ]
  },
  {
   "cell_type": "code",
   "execution_count": null,
   "id": "217cc22f-4d64-490d-88ad-9880a76f59ee",
   "metadata": {},
   "outputs": [],
   "source": []
  }
 ],
 "metadata": {
  "kernelspec": {
   "display_name": "Python 3 (ipykernel)",
   "language": "python",
   "name": "python3"
  },
  "language_info": {
   "codemirror_mode": {
    "name": "ipython",
    "version": 3
   },
   "file_extension": ".py",
   "mimetype": "text/x-python",
   "name": "python",
   "nbconvert_exporter": "python",
   "pygments_lexer": "ipython3",
   "version": "3.10.6"
  }
 },
 "nbformat": 4,
 "nbformat_minor": 5
}

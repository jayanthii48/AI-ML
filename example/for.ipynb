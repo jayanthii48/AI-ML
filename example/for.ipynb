{
 "cells": [
  {
   "cell_type": "code",
   "execution_count": 1,
   "id": "b58a3f8f-0686-4b0a-bb37-a8ca4230dc05",
   "metadata": {},
   "outputs": [
    {
     "name": "stdout",
     "output_type": "stream",
     "text": [
      "[1, 2, 3, 4, 5, 6, 7, 8, 9]\n"
     ]
    }
   ],
   "source": [
    "numbers=[1,2,3,4,5,6,7,8,9]\n",
    "print(numbers)"
   ]
  },
  {
   "cell_type": "code",
   "execution_count": 21,
   "id": "9ca707aa-d56b-4d1c-809e-0f2b6ff47e75",
   "metadata": {},
   "outputs": [
    {
     "name": "stdout",
     "output_type": "stream",
     "text": [
      "6\n",
      "7\n",
      "8\n",
      "9\n",
      "10\n",
      "11\n",
      "12\n",
      "13\n",
      "14\n",
      "0\n"
     ]
    }
   ],
   "source": [
    "numbers=[1,2,3,4,5,6,7,8,9]\n",
    "for i in numbers:\n",
    "    add=i+5\n",
    "    print(add)\n",
    "print(0)"
   ]
  },
  {
   "cell_type": "code",
   "execution_count": 7,
   "id": "d1b6eb22-0841-48c1-94fb-5f7ffb3c6d51",
   "metadata": {},
   "outputs": [
    {
     "name": "stdout",
     "output_type": "stream",
     "text": [
      "your email is: ag@gmail.com\n",
      "your email is: ae@gmail.com\n",
      "your email is: er@gmail.com\n"
     ]
    }
   ],
   "source": [
    "numbers=[\"ag@gmail.com\",\"ae@gmail.com\",\"er@gmail.com\"]\n",
    "for i in numbers:\n",
    "    print(\"your email is:\",i)"
   ]
  },
  {
   "cell_type": "code",
   "execution_count": null,
   "id": "f95152e2-a205-42bf-a7e9-38ee3901ff44",
   "metadata": {},
   "outputs": [],
   "source": [
    "for i in range(101):\n",
    "    print(\"*\",i)"
   ]
  },
  {
   "cell_type": "code",
   "execution_count": 10,
   "id": "b301db14-0035-493b-9218-4cfcba8ed935",
   "metadata": {},
   "outputs": [
    {
     "name": "stdout",
     "output_type": "stream",
     "text": [
      "100\n",
      "101\n",
      "102\n",
      "103\n",
      "104\n",
      "105\n"
     ]
    }
   ],
   "source": [
    "for i in range(6):\n",
    "    add = i+100\n",
    "    print(add)"
   ]
  },
  {
   "cell_type": "code",
   "execution_count": 11,
   "id": "90a291c7-1d64-4665-a0c3-fdeca0eba07a",
   "metadata": {},
   "outputs": [
    {
     "name": "stdout",
     "output_type": "stream",
     "text": [
      "joe\n"
     ]
    }
   ],
   "source": [
    "name=\"joe\"\n",
    "print(name)"
   ]
  },
  {
   "cell_type": "code",
   "execution_count": 14,
   "id": "44be431b-79a5-48a7-aa20-442ca58f094d",
   "metadata": {},
   "outputs": [
    {
     "name": "stdin",
     "output_type": "stream",
     "text": [
      "enter a name 678fghjk\n"
     ]
    },
    {
     "name": "stdout",
     "output_type": "stream",
     "text": [
      "6\n",
      "7\n",
      "8\n",
      "f\n",
      "g\n",
      "h\n",
      "j\n",
      "k\n"
     ]
    }
   ],
   "source": [
    "name=input(\"enter a name\")\n",
    "for i in name:\n",
    "    print(i)\n"
   ]
  },
  {
   "cell_type": "code",
   "execution_count": 20,
   "id": "2da09f47-e445-4770-b2c0-04ef2b5ec8dc",
   "metadata": {},
   "outputs": [
    {
     "name": "stdout",
     "output_type": "stream",
     "text": [
      "this the first ApAAAAAAAAAAArAgrAph\n"
     ]
    }
   ],
   "source": [
    "sent=\"this the first Apaaaaaaaaaaaragraph\"\n",
    "str=\"\"\n",
    "for i in sent:\n",
    "    if(i==\"a\"):\n",
    "        i=\"A\"\n",
    "    str = str+i\n",
    "print(str)"
   ]
  },
  {
   "cell_type": "code",
   "execution_count": 24,
   "id": "ce61c6a1-13e4-461b-a074-09744bb4e5a6",
   "metadata": {},
   "outputs": [
    {
     "name": "stdout",
     "output_type": "stream",
     "text": [
      "6\n",
      "7\n",
      "8\n",
      "9\n",
      "10\n",
      "11\n",
      "true\n",
      "13\n",
      "14\n",
      "0\n"
     ]
    }
   ],
   "source": [
    "numbers=[1,2,3,4,5,6,7,8,9]\n",
    "for i in numbers:\n",
    "    if(i==7):\n",
    "        print(\"true\")\n",
    "    else:\n",
    "        add=i+5\n",
    "        print(add)\n",
    "    \n",
    "print(0)"
   ]
  },
  {
   "cell_type": "code",
   "execution_count": null,
   "id": "ba58ee2d-eff2-4c32-b9cf-5c77f70c6af6",
   "metadata": {},
   "outputs": [],
   "source": []
  }
 ],
 "metadata": {
  "kernelspec": {
   "display_name": "Python 3 (ipykernel)",
   "language": "python",
   "name": "python3"
  },
  "language_info": {
   "codemirror_mode": {
    "name": "ipython",
    "version": 3
   },
   "file_extension": ".py",
   "mimetype": "text/x-python",
   "name": "python",
   "nbconvert_exporter": "python",
   "pygments_lexer": "ipython3",
   "version": "3.11.4"
  }
 },
 "nbformat": 4,
 "nbformat_minor": 5
}

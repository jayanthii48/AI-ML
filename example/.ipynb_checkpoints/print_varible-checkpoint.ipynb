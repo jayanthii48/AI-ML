{
 "cells": [
  {
   "cell_type": "code",
   "execution_count": 1,
   "id": "9e744e2e-beeb-4326-9423-ff9eee9182ff",
   "metadata": {},
   "outputs": [
    {
     "name": "stdout",
     "output_type": "stream",
     "text": [
      "hello\n"
     ]
    }
   ],
   "source": [
    "print(\"hello\")\n"
   ]
  },
  {
   "cell_type": "code",
   "execution_count": 6,
   "id": "e587ea9e-d5c4-4338-a6b3-121e666a5af3",
   "metadata": {},
   "outputs": [
    {
     "name": "stdout",
     "output_type": "stream",
     "text": [
      "zdfb!apple!banana\n"
     ]
    }
   ],
   "source": [
    "print(\"zdfb\",\"apple\",\"banana\",sep=\"!\")"
   ]
  },
  {
   "cell_type": "code",
   "execution_count": 7,
   "id": "08f95dab-ed2a-4ed2-b162-0df54a7b2e5a",
   "metadata": {},
   "outputs": [
    {
     "name": "stdout",
     "output_type": "stream",
     "text": [
      "hello\n",
      "world\n"
     ]
    }
   ],
   "source": [
    "print(\"hello\")\n",
    "print(\"world\")"
   ]
  },
  {
   "cell_type": "code",
   "execution_count": 9,
   "id": "8e9e100f-ac45-41d1-8ac4-5e986f023812",
   "metadata": {},
   "outputs": [
    {
     "name": "stdout",
     "output_type": "stream",
     "text": [
      "hello world\n"
     ]
    }
   ],
   "source": [
    "print(\"hello\",end=\" \")\n",
    "print(\"world\")"
   ]
  },
  {
   "cell_type": "code",
   "execution_count": 10,
   "id": "1a6e9141-2300-4a66-9543-b5ad8b65bfa7",
   "metadata": {},
   "outputs": [
    {
     "name": "stdout",
     "output_type": "stream",
     "text": [
      "jay\n"
     ]
    }
   ],
   "source": [
    "print(\"jay\")"
   ]
  },
  {
   "cell_type": "code",
   "execution_count": 15,
   "id": "63a44207-9a32-4ee2-8830-4ec279aeb8d7",
   "metadata": {},
   "outputs": [
    {
     "name": "stdout",
     "output_type": "stream",
     "text": [
      "the name is joe\n"
     ]
    }
   ],
   "source": [
    "Name=\"joe\"\n",
    "print(\"the name is\", Name)"
   ]
  },
  {
   "cell_type": "code",
   "execution_count": 20,
   "id": "3d60c13e-8c15-4289-b710-626b5f4a1e58",
   "metadata": {},
   "outputs": [
    {
     "name": "stdout",
     "output_type": "stream",
     "text": [
      "5\n",
      "python\n"
     ]
    }
   ],
   "source": [
    "x=5\n",
    "print(x)\n",
    "y=\"python\"\n",
    "print(y)"
   ]
  },
  {
   "cell_type": "code",
   "execution_count": 25,
   "id": "0fe644b6-0212-40a0-88f3-f418fe93c254",
   "metadata": {},
   "outputs": [
    {
     "name": "stdout",
     "output_type": "stream",
     "text": [
      "no1 is 34\n"
     ]
    }
   ],
   "source": [
    "no1=no2=no3=34\n",
    "print(\"no1 is\",no3)"
   ]
  },
  {
   "cell_type": "code",
   "execution_count": 28,
   "id": "fc156dc0-4b0c-4201-9dc3-1c6ee6781abc",
   "metadata": {},
   "outputs": [
    {
     "name": "stdout",
     "output_type": "stream",
     "text": [
      "30\n",
      "10\n"
     ]
    }
   ],
   "source": [
    "AGE=13\n",
    "\n",
    "AGE+18\n",
    "AGE>18\n",
    "AGE months\n"
   ]
  },
  {
   "cell_type": "code",
   "execution_count": null,
   "id": "5e7e8a53-e827-4053-84f8-9f3efb9cb40a",
   "metadata": {},
   "outputs": [],
   "source": []
  }
 ],
 "metadata": {
  "kernelspec": {
   "display_name": "Python 3 (ipykernel)",
   "language": "python",
   "name": "python3"
  },
  "language_info": {
   "codemirror_mode": {
    "name": "ipython",
    "version": 3
   },
   "file_extension": ".py",
   "mimetype": "text/x-python",
   "name": "python",
   "nbconvert_exporter": "python",
   "pygments_lexer": "ipython3",
   "version": "3.11.4"
  }
 },
 "nbformat": 4,
 "nbformat_minor": 5
}

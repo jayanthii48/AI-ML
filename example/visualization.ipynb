{
 "cells": [
  {
   "cell_type": "code",
   "execution_count": 6,
   "id": "bdc738cd-eb68-4ff1-a2c2-42f29a81675e",
   "metadata": {},
   "outputs": [],
   "source": [
    "import pandas as pd\n"
   ]
  },
  {
   "cell_type": "code",
   "execution_count": 7,
   "id": "cca9af18-e72e-478a-9c48-05346b11c20e",
   "metadata": {},
   "outputs": [],
   "source": [
    "sam= pd.read_excel('student.xlsx')"
   ]
  },
  {
   "cell_type": "code",
   "execution_count": 8,
   "id": "908c3fb0-200b-447f-8668-434ab0d89a8e",
   "metadata": {},
   "outputs": [
    {
     "data": {
      "text/html": [
       "<div>\n",
       "<style scoped>\n",
       "    .dataframe tbody tr th:only-of-type {\n",
       "        vertical-align: middle;\n",
       "    }\n",
       "\n",
       "    .dataframe tbody tr th {\n",
       "        vertical-align: top;\n",
       "    }\n",
       "\n",
       "    .dataframe thead th {\n",
       "        text-align: right;\n",
       "    }\n",
       "</style>\n",
       "<table border=\"1\" class=\"dataframe\">\n",
       "  <thead>\n",
       "    <tr style=\"text-align: right;\">\n",
       "      <th></th>\n",
       "      <th>Student ID</th>\n",
       "      <th>Name</th>\n",
       "      <th>Math Score</th>\n",
       "      <th>Science Score</th>\n",
       "      <th>English Score</th>\n",
       "      <th>Attendance (%)</th>\n",
       "      <th>Grade</th>\n",
       "    </tr>\n",
       "  </thead>\n",
       "  <tbody>\n",
       "    <tr>\n",
       "      <th>0</th>\n",
       "      <td>101</td>\n",
       "      <td>Alice</td>\n",
       "      <td>85</td>\n",
       "      <td>90</td>\n",
       "      <td>78</td>\n",
       "      <td>95</td>\n",
       "      <td>A</td>\n",
       "    </tr>\n",
       "    <tr>\n",
       "      <th>1</th>\n",
       "      <td>102</td>\n",
       "      <td>Bob</td>\n",
       "      <td>78</td>\n",
       "      <td>75</td>\n",
       "      <td>80</td>\n",
       "      <td>88</td>\n",
       "      <td>B</td>\n",
       "    </tr>\n",
       "    <tr>\n",
       "      <th>2</th>\n",
       "      <td>103</td>\n",
       "      <td>Charlie</td>\n",
       "      <td>92</td>\n",
       "      <td>89</td>\n",
       "      <td>94</td>\n",
       "      <td>98</td>\n",
       "      <td>A+</td>\n",
       "    </tr>\n",
       "    <tr>\n",
       "      <th>3</th>\n",
       "      <td>104</td>\n",
       "      <td>David</td>\n",
       "      <td>65</td>\n",
       "      <td>70</td>\n",
       "      <td>68</td>\n",
       "      <td>85</td>\n",
       "      <td>C</td>\n",
       "    </tr>\n",
       "    <tr>\n",
       "      <th>4</th>\n",
       "      <td>105</td>\n",
       "      <td>Emma</td>\n",
       "      <td>88</td>\n",
       "      <td>91</td>\n",
       "      <td>85</td>\n",
       "      <td>92</td>\n",
       "      <td>A</td>\n",
       "    </tr>\n",
       "    <tr>\n",
       "      <th>5</th>\n",
       "      <td>106</td>\n",
       "      <td>Frank</td>\n",
       "      <td>72</td>\n",
       "      <td>76</td>\n",
       "      <td>70</td>\n",
       "      <td>80</td>\n",
       "      <td>B</td>\n",
       "    </tr>\n",
       "    <tr>\n",
       "      <th>6</th>\n",
       "      <td>107</td>\n",
       "      <td>Grace</td>\n",
       "      <td>95</td>\n",
       "      <td>97</td>\n",
       "      <td>96</td>\n",
       "      <td>99</td>\n",
       "      <td>A+</td>\n",
       "    </tr>\n",
       "    <tr>\n",
       "      <th>7</th>\n",
       "      <td>108</td>\n",
       "      <td>Harry</td>\n",
       "      <td>80</td>\n",
       "      <td>82</td>\n",
       "      <td>79</td>\n",
       "      <td>90</td>\n",
       "      <td>B+</td>\n",
       "    </tr>\n",
       "    <tr>\n",
       "      <th>8</th>\n",
       "      <td>109</td>\n",
       "      <td>Ivy</td>\n",
       "      <td>77</td>\n",
       "      <td>74</td>\n",
       "      <td>78</td>\n",
       "      <td>86</td>\n",
       "      <td>B</td>\n",
       "    </tr>\n",
       "    <tr>\n",
       "      <th>9</th>\n",
       "      <td>110</td>\n",
       "      <td>Jack</td>\n",
       "      <td>68</td>\n",
       "      <td>65</td>\n",
       "      <td>69</td>\n",
       "      <td>78</td>\n",
       "      <td>C</td>\n",
       "    </tr>\n",
       "    <tr>\n",
       "      <th>10</th>\n",
       "      <td>111</td>\n",
       "      <td>Katie</td>\n",
       "      <td>91</td>\n",
       "      <td>93</td>\n",
       "      <td>90</td>\n",
       "      <td>97</td>\n",
       "      <td>A</td>\n",
       "    </tr>\n",
       "    <tr>\n",
       "      <th>11</th>\n",
       "      <td>112</td>\n",
       "      <td>Liam</td>\n",
       "      <td>85</td>\n",
       "      <td>84</td>\n",
       "      <td>87</td>\n",
       "      <td>93</td>\n",
       "      <td>A</td>\n",
       "    </tr>\n",
       "    <tr>\n",
       "      <th>12</th>\n",
       "      <td>113</td>\n",
       "      <td>Mia</td>\n",
       "      <td>76</td>\n",
       "      <td>79</td>\n",
       "      <td>77</td>\n",
       "      <td>88</td>\n",
       "      <td>B</td>\n",
       "    </tr>\n",
       "    <tr>\n",
       "      <th>13</th>\n",
       "      <td>114</td>\n",
       "      <td>Noah</td>\n",
       "      <td>64</td>\n",
       "      <td>60</td>\n",
       "      <td>62</td>\n",
       "      <td>75</td>\n",
       "      <td>D</td>\n",
       "    </tr>\n",
       "    <tr>\n",
       "      <th>14</th>\n",
       "      <td>115</td>\n",
       "      <td>Olivia</td>\n",
       "      <td>89</td>\n",
       "      <td>87</td>\n",
       "      <td>90</td>\n",
       "      <td>94</td>\n",
       "      <td>A</td>\n",
       "    </tr>\n",
       "    <tr>\n",
       "      <th>15</th>\n",
       "      <td>116</td>\n",
       "      <td>Peter</td>\n",
       "      <td>82</td>\n",
       "      <td>80</td>\n",
       "      <td>83</td>\n",
       "      <td>91</td>\n",
       "      <td>B+</td>\n",
       "    </tr>\n",
       "    <tr>\n",
       "      <th>16</th>\n",
       "      <td>117</td>\n",
       "      <td>Quinn</td>\n",
       "      <td>70</td>\n",
       "      <td>72</td>\n",
       "      <td>68</td>\n",
       "      <td>82</td>\n",
       "      <td>B</td>\n",
       "    </tr>\n",
       "    <tr>\n",
       "      <th>17</th>\n",
       "      <td>118</td>\n",
       "      <td>Ryan</td>\n",
       "      <td>93</td>\n",
       "      <td>95</td>\n",
       "      <td>92</td>\n",
       "      <td>98</td>\n",
       "      <td>A+</td>\n",
       "    </tr>\n",
       "    <tr>\n",
       "      <th>18</th>\n",
       "      <td>119</td>\n",
       "      <td>Sophia</td>\n",
       "      <td>78</td>\n",
       "      <td>76</td>\n",
       "      <td>79</td>\n",
       "      <td>89</td>\n",
       "      <td>B</td>\n",
       "    </tr>\n",
       "    <tr>\n",
       "      <th>19</th>\n",
       "      <td>120</td>\n",
       "      <td>Tom</td>\n",
       "      <td>66</td>\n",
       "      <td>64</td>\n",
       "      <td>63</td>\n",
       "      <td>77</td>\n",
       "      <td>C</td>\n",
       "    </tr>\n",
       "  </tbody>\n",
       "</table>\n",
       "</div>"
      ],
      "text/plain": [
       "    Student ID     Name  Math Score  Science Score  English Score  \\\n",
       "0          101    Alice          85             90             78   \n",
       "1          102      Bob          78             75             80   \n",
       "2          103  Charlie          92             89             94   \n",
       "3          104    David          65             70             68   \n",
       "4          105     Emma          88             91             85   \n",
       "5          106    Frank          72             76             70   \n",
       "6          107    Grace          95             97             96   \n",
       "7          108    Harry          80             82             79   \n",
       "8          109      Ivy          77             74             78   \n",
       "9          110     Jack          68             65             69   \n",
       "10         111    Katie          91             93             90   \n",
       "11         112     Liam          85             84             87   \n",
       "12         113      Mia          76             79             77   \n",
       "13         114     Noah          64             60             62   \n",
       "14         115   Olivia          89             87             90   \n",
       "15         116    Peter          82             80             83   \n",
       "16         117    Quinn          70             72             68   \n",
       "17         118     Ryan          93             95             92   \n",
       "18         119   Sophia          78             76             79   \n",
       "19         120      Tom          66             64             63   \n",
       "\n",
       "    Attendance (%) Grade  \n",
       "0               95     A  \n",
       "1               88     B  \n",
       "2               98    A+  \n",
       "3               85     C  \n",
       "4               92     A  \n",
       "5               80     B  \n",
       "6               99    A+  \n",
       "7               90    B+  \n",
       "8               86     B  \n",
       "9               78     C  \n",
       "10              97     A  \n",
       "11              93     A  \n",
       "12              88     B  \n",
       "13              75     D  \n",
       "14              94     A  \n",
       "15              91    B+  \n",
       "16              82     B  \n",
       "17              98    A+  \n",
       "18              89     B  \n",
       "19              77     C  "
      ]
     },
     "execution_count": 8,
     "metadata": {},
     "output_type": "execute_result"
    }
   ],
   "source": [
    "sam"
   ]
  },
  {
   "cell_type": "code",
   "execution_count": 9,
   "id": "b9bcd740-f4bd-48d4-b808-3831f401af74",
   "metadata": {},
   "outputs": [],
   "source": [
    "import matplotlib.pyplot as plt "
   ]
  },
  {
   "cell_type": "code",
   "execution_count": 10,
   "id": "dbd93688-4aac-40f2-b68f-9f6c39c1aea9",
   "metadata": {},
   "outputs": [],
   "source": [
    "x=sam['Name']\n",
    "y=sam['Grade']"
   ]
  },
  {
   "cell_type": "code",
   "execution_count": 12,
   "id": "48f2752d-adcd-409e-aac8-b8c226179b27",
   "metadata": {},
   "outputs": [
    {
     "data": {
      "text/plain": [
       "0       Alice\n",
       "1         Bob\n",
       "2     Charlie\n",
       "3       David\n",
       "4        Emma\n",
       "5       Frank\n",
       "6       Grace\n",
       "7       Harry\n",
       "8         Ivy\n",
       "9        Jack\n",
       "10      Katie\n",
       "11       Liam\n",
       "12        Mia\n",
       "13       Noah\n",
       "14     Olivia\n",
       "15      Peter\n",
       "16      Quinn\n",
       "17       Ryan\n",
       "18     Sophia\n",
       "19        Tom\n",
       "Name: Name, dtype: object"
      ]
     },
     "execution_count": 12,
     "metadata": {},
     "output_type": "execute_result"
    }
   ],
   "source": [
    "x"
   ]
  },
  {
   "cell_type": "code",
   "execution_count": 13,
   "id": "bb387c3f-2df2-401b-a7e8-0d52950272cb",
   "metadata": {},
   "outputs": [
    {
     "data": {
      "text/plain": [
       "0      A\n",
       "1      B\n",
       "2     A+\n",
       "3      C\n",
       "4      A\n",
       "5      B\n",
       "6     A+\n",
       "7     B+\n",
       "8      B\n",
       "9      C\n",
       "10     A\n",
       "11     A\n",
       "12     B\n",
       "13     D\n",
       "14     A\n",
       "15    B+\n",
       "16     B\n",
       "17    A+\n",
       "18     B\n",
       "19     C\n",
       "Name: Grade, dtype: object"
      ]
     },
     "execution_count": 13,
     "metadata": {},
     "output_type": "execute_result"
    }
   ],
   "source": [
    "y"
   ]
  },
  {
   "cell_type": "code",
   "execution_count": 17,
   "id": "6dcf5b44-a970-4d47-a220-003c66cb173f",
   "metadata": {},
   "outputs": [
    {
     "data": {
      "image/png": "[encoded data removed]",
      "text/plain": [
       "<Figure size 640x480 with 1 Axes>"
      ]
     },
     "metadata": {},
     "output_type": "display_data"
    }
   ],
   "source": [
    "plt.plot(x,y,linestyle=':',marker='s',color='r')\n",
    "plt.xlabel(\"STUDENTS NAME\")\n",
    "plt.ylabel(\"Grade\")\n",
    "plt.title(\"Students graph\")\n",
    "plt.show()"
   ]
  },
  {
   "cell_type": "code",
   "execution_count": 44,
   "id": "5e46e5f4-7de3-4216-a544-cd293d239d9c",
   "metadata": {},
   "outputs": [
    {
     "data": {
      "image/png": "[encoded data removed]",
      "text/plain": [
       "<Figure size 640x480 with 1 Axes>"
      ]
     },
     "metadata": {},
     "output_type": "display_data"
    }
   ],
   "source": [
    "plt.barh(x,y,color='b')\n",
    "plt.xlabel(\"STUDENTS NAME\")\n",
    "plt.ylabel(\"Grade\")\n",
    "plt.title(\"Students graph\")\n",
    "plt.show()"
   ]
  },
  {
   "cell_type": "code",
   "execution_count": 20,
   "id": "48f6a623-3fac-43ea-baf5-18344b017f43",
   "metadata": {},
   "outputs": [],
   "source": [
    "x=sam['Grade']\n",
    "y=sam['Math Score']"
   ]
  },
  {
   "cell_type": "code",
   "execution_count": 46,
   "id": "27aa8ebf-fe9a-4129-9dcc-10e8f5ef078a",
   "metadata": {},
   "outputs": [
    {
     "data": {
      "image/png": "[encoded data removed]",
      "text/plain": [
       "<Figure size 640x480 with 1 Axes>"
      ]
     },
     "metadata": {},
     "output_type": "display_data"
    }
   ],
   "source": [
    "# plt.figure(figsize=(2,2))\n",
    "plt.grid(True)\n",
    "plt.scatter(x,y,marker=\"x\",color='green')\n",
    "plt.legend('grade')\n",
    "plt.show()"
   ]
  },
  {
   "cell_type": "code",
   "execution_count": 38,
   "id": "3be875b0-2232-4854-b39a-100763263374",
   "metadata": {},
   "outputs": [
    {
     "data": {
      "image/png": "[encoded data removed]",
      "text/plain": [
       "<Figure size 640x480 with 1 Axes>"
      ]
     },
     "metadata": {},
     "output_type": "display_data"
    }
   ],
   "source": [
    "import numpy as np \n",
    "data = np.random.randn(1000) \n",
    "plt.hist(data,bins=100, color='purple', edgecolor='black')\n",
    "plt.show()"
   ]
  },
  {
   "cell_type": "code",
   "execution_count": null,
   "id": "968e0d4c-2f2f-4590-bde2-b79d88397de3",
   "metadata": {},
   "outputs": [],
   "source": []
  }
 ],
 "metadata": {
  "kernelspec": {
   "display_name": "Python 3 (ipykernel)",
   "language": "python",
   "name": "python3"
  },
  "language_info": {
   "codemirror_mode": {
    "name": "ipython",
    "version": 3
   },
   "file_extension": ".py",
   "mimetype": "text/x-python",
   "name": "python",
   "nbconvert_exporter": "python",
   "pygments_lexer": "ipython3",
   "version": "3.10.6"
  }
 },
 "nbformat": 4,
 "nbformat_minor": 5
}

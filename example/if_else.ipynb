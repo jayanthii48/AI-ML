{
 "cells": [
  {
   "cell_type": "code",
   "execution_count": 2,
   "id": "553dfe61-e0ee-40d9-8981-1284fddf3d7d",
   "metadata": {},
   "outputs": [
    {
     "name": "stdin",
     "output_type": "stream",
     "text": [
      "enter a user id 1234567\n"
     ]
    },
    {
     "name": "stdout",
     "output_type": "stream",
     "text": [
      "user premium\n"
     ]
    }
   ],
   "source": [
    "pre_id =\"1234567\"\n",
    "user_id=input(\"enter a user id\")\n",
    "if(user_id==pre_id):\n",
    "    print(\"user premium\")\n",
    "else:\n",
    "    print(\"normal user\")"
   ]
  },
  {
   "cell_type": "code",
   "execution_count": 6,
   "id": "a8a2f027-c928-4dda-bf86-7b98f40037e1",
   "metadata": {},
   "outputs": [
    {
     "name": "stdin",
     "output_type": "stream",
     "text": [
      "enter a user id erty\n"
     ]
    },
    {
     "name": "stdout",
     "output_type": "stream",
     "text": [
      "normal user\n"
     ]
    }
   ],
   "source": [
    "pre_id =\"1234567\"\n",
    "offer_id=\"9876\"\n",
    "user_id=input(\"enter a user id\")\n",
    "if(user_id==pre_id):\n",
    "    print(\"you can access\")\n",
    "elif(user_id==offer_id):\n",
    "    print(\"you can access\")\n",
    "else:\n",
    "    print(\"normal user\")"
   ]
  },
  {
   "cell_type": "code",
   "execution_count": 9,
   "id": "462ddacd-fb21-4da9-a41d-09f123c1d4cc",
   "metadata": {},
   "outputs": [
    {
     "name": "stdin",
     "output_type": "stream",
     "text": [
      "enter a user id 1234567\n"
     ]
    },
    {
     "name": "stdout",
     "output_type": "stream",
     "text": [
      "user premium\n",
      "hello,welcome\n",
      "********\n"
     ]
    }
   ],
   "source": [
    "pre_id =\"1234567\"\n",
    "user_id=input(\"enter a user id\")\n",
    "if(user_id==pre_id):\n",
    "    print(\"user premium\")\n",
    "\n",
    "print(\"hello,welcome\")\n",
    "print(\"********\")"
   ]
  },
  {
   "cell_type": "code",
   "execution_count": 14,
   "id": "dbcebc2e-2492-4eb9-a7b2-121a9f711054",
   "metadata": {},
   "outputs": [
    {
     "name": "stdin",
     "output_type": "stream",
     "text": [
      "enter a user id 1234567\n"
     ]
    },
    {
     "name": "stdout",
     "output_type": "stream",
     "text": [
      "user premium\n"
     ]
    },
    {
     "name": "stdin",
     "output_type": "stream",
     "text": [
      "enter a amount: 9000\n"
     ]
    },
    {
     "name": "stdout",
     "output_type": "stream",
     "text": [
      "higher\n"
     ]
    }
   ],
   "source": [
    "pre_id =\"1234567\"\n",
    "pay =1000\n",
    "user_id=input(\"enter a user id\")\n",
    "\n",
    "if(user_id==pre_id):\n",
    "    print(\"user premium\")\n",
    "    pay_am=int(input(\"enter a amount:\"))\n",
    "    if(pay<=pay_am):\n",
    "        print(\"higher\")\n",
    "    else:\n",
    "        print(\"basic\")\n",
    "else:\n",
    "    print(\"normal user\")"
   ]
  },
  {
   "cell_type": "code",
   "execution_count": null,
   "id": "adb41588-b6a5-43fd-8cee-6adcd60d779e",
   "metadata": {},
   "outputs": [],
   "source": []
  }
 ],
 "metadata": {
  "kernelspec": {
   "display_name": "Python 3 (ipykernel)",
   "language": "python",
   "name": "python3"
  },
  "language_info": {
   "codemirror_mode": {
    "name": "ipython",
    "version": 3
   },
   "file_extension": ".py",
   "mimetype": "text/x-python",
   "name": "python",
   "nbconvert_exporter": "python",
   "pygments_lexer": "ipython3",
   "version": "3.11.4"
  }
 },
 "nbformat": 4,
 "nbformat_minor": 5
}

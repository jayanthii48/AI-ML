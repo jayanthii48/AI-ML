{
 "cells": [
  {
   "cell_type": "code",
   "execution_count": 3,
   "id": "a58439b7-7b63-4f83-8d6b-a9002dd58238",
   "metadata": {},
   "outputs": [
    {
     "name": "stdin",
     "output_type": "stream",
     "text": [
      "enter a numbers 6\n"
     ]
    },
    {
     "name": "stdout",
     "output_type": "stream",
     "text": [
      "3.0\n",
      "0\n"
     ]
    }
   ],
   "source": [
    "#odd ,even/2=0\n",
    "\n",
    "num=int(input(\"enter a numbers\"))\n",
    "print(num/2)\n",
    "print(num%2)"
   ]
  },
  {
   "cell_type": "code",
   "execution_count": 8,
   "id": "e82aec43-ea55-4bd5-a2f8-f513d6eca2c8",
   "metadata": {},
   "outputs": [
    {
     "name": "stdin",
     "output_type": "stream",
     "text": [
      "enter a numbers 45\n"
     ]
    },
    {
     "name": "stdout",
     "output_type": "stream",
     "text": [
      "odd\n"
     ]
    }
   ],
   "source": [
    "#odd ,even/2=0\n",
    "\n",
    "num=int(input(\"enter a numbers\"))\n",
    "if(num%2 ==0):\n",
    "    print(\"even\")\n",
    "else:\n",
    "    print(\"odd\")"
   ]
  },
  {
   "cell_type": "code",
   "execution_count": null,
   "id": "6ed947ab-6696-49b2-abc9-04e605c08796",
   "metadata": {},
   "outputs": [],
   "source": [
    "list : "
   ]
  },
  {
   "cell_type": "code",
   "execution_count": 13,
   "id": "996aeba7-9a71-4091-bb75-5ee089aab2d2",
   "metadata": {},
   "outputs": [
    {
     "name": "stdout",
     "output_type": "stream",
     "text": [
      "[101, 102, 103, 104, 105]\n"
     ]
    },
    {
     "data": {
      "text/plain": [
       "103"
      ]
     },
     "execution_count": 13,
     "metadata": {},
     "output_type": "execute_result"
    }
   ],
   "source": [
    "employees_id =[101,102,103,104,105]  0,1,2,3,4\n",
    "#index :  0  to n-1\n",
    "#reverse : -1 \n",
    "print(employees_id)\n",
    "employees_id[-1]\n",
    "employees_id[2]"
   ]
  },
  {
   "cell_type": "code",
   "execution_count": 16,
   "id": "3eef7aec-da1d-4574-b069-90e553ba9791",
   "metadata": {},
   "outputs": [
    {
     "data": {
      "text/plain": [
       "[102, 104, 106, 108]"
      ]
     },
     "execution_count": 16,
     "metadata": {},
     "output_type": "execute_result"
    }
   ],
   "source": [
    "#slicing   [start:end:step] end-1\n",
    "employees_id =[101,102,103,104,105,106,107,108,109,110] \n",
    "employees_id[1:9:2]"
   ]
  },
  {
   "cell_type": "code",
   "execution_count": 19,
   "id": "49cc5583-d5ee-4c49-99cf-5bc07152c546",
   "metadata": {},
   "outputs": [
    {
     "data": {
      "text/plain": [
       "[101, 102, 103]"
      ]
     },
     "execution_count": 19,
     "metadata": {},
     "output_type": "execute_result"
    }
   ],
   "source": [
    "employees_id[:3]"
   ]
  },
  {
   "cell_type": "code",
   "execution_count": 18,
   "id": "552e8d9d-4ace-4628-bd18-3076cdd2e8e9",
   "metadata": {},
   "outputs": [
    {
     "data": {
      "text/plain": [
       "[103, 104, 105, 106, 107, 108, 109, 110]"
      ]
     },
     "execution_count": 18,
     "metadata": {},
     "output_type": "execute_result"
    }
   ],
   "source": [
    "employees_id[2:]"
   ]
  },
  {
   "cell_type": "code",
   "execution_count": 21,
   "id": "5e0a4897-07e5-4e7a-a72e-306e6f327c07",
   "metadata": {},
   "outputs": [
    {
     "data": {
      "text/plain": [
       "[101, 104, 107, 110]"
      ]
     },
     "execution_count": 21,
     "metadata": {},
     "output_type": "execute_result"
    }
   ],
   "source": [
    "employees_id[::3]"
   ]
  },
  {
   "cell_type": "code",
   "execution_count": 22,
   "id": "ef745a5a-6aa7-4a59-9bcf-586aff89adc4",
   "metadata": {},
   "outputs": [
    {
     "name": "stdout",
     "output_type": "stream",
     "text": [
      "[101, 102, 103, 104, 105, 116, 107, 108, 109, 110]\n"
     ]
    }
   ],
   "source": [
    "employees_id =[101,102,103,104,105,106,107,108,109,110] \n",
    "employees_id[5] = 116\n",
    "print(employees_id)"
   ]
  },
  {
   "cell_type": "code",
   "execution_count": 25,
   "id": "26f31d94-1bde-48b3-8635-3269cd25f4d5",
   "metadata": {},
   "outputs": [
    {
     "name": "stdout",
     "output_type": "stream",
     "text": [
      "[101, 102, 103, 104, 105, 116, 107, 108, 109, 110, 123, 123]\n"
     ]
    }
   ],
   "source": [
    "#append -- last add(value)\n",
    "employees_id.append(123)\n",
    "print(employees_id)"
   ]
  },
  {
   "cell_type": "code",
   "execution_count": 26,
   "id": "5c5f0f69-12b0-45ec-bc75-a06c8d085b47",
   "metadata": {},
   "outputs": [
    {
     "data": {
      "text/plain": [
       "[101, 102, 145, 103, 104, 105, 116, 107, 108, 109, 110, 123, 123]"
      ]
     },
     "execution_count": 26,
     "metadata": {},
     "output_type": "execute_result"
    }
   ],
   "source": [
    "#insert -- middle add (where to , value)\n",
    "employees_id.insert(2,145)\n",
    "employees_id"
   ]
  },
  {
   "cell_type": "code",
   "execution_count": 29,
   "id": "99e60ee5-e65f-4b63-a40e-cea0873038dd",
   "metadata": {},
   "outputs": [
    {
     "data": {
      "text/plain": [
       "[101, 102, 145, 103, 104, 105, 116, 107, 108, 109, 110]"
      ]
     },
     "execution_count": 29,
     "metadata": {},
     "output_type": "execute_result"
    }
   ],
   "source": [
    "employees_id.pop()\n",
    "employees_id"
   ]
  },
  {
   "cell_type": "code",
   "execution_count": 31,
   "id": "f06e91e7-48f5-49f0-8018-3063216c6ab6",
   "metadata": {},
   "outputs": [
    {
     "ename": "ValueError",
     "evalue": "list.remove(x): x not in list",
     "output_type": "error",
     "traceback": [
      "\u001b[1;31m---------------------------------------------------------------------------\u001b[0m",
      "\u001b[1;31mValueError\u001b[0m                                Traceback (most recent call last)",
      "Cell \u001b[1;32mIn[31], line 1\u001b[0m\n\u001b[1;32m----> 1\u001b[0m \u001b[43memployees_id\u001b[49m\u001b[38;5;241;43m.\u001b[39;49m\u001b[43mremove\u001b[49m\u001b[43m(\u001b[49m\u001b[38;5;241;43m145\u001b[39;49m\u001b[43m)\u001b[49m \u001b[38;5;66;03m#value \u001b[39;00m\n\u001b[0;32m      2\u001b[0m employees_id\n",
      "\u001b[1;31mValueError\u001b[0m: list.remove(x): x not in list"
     ]
    }
   ],
   "source": [
    "employees_id.remove(145) #value \n",
    "employees_id"
   ]
  },
  {
   "cell_type": "code",
   "execution_count": 32,
   "id": "f7b0e83f-6bb2-4d33-b147-cd765f1f2f25",
   "metadata": {},
   "outputs": [
    {
     "data": {
      "text/plain": [
       "110"
      ]
     },
     "execution_count": 32,
     "metadata": {},
     "output_type": "execute_result"
    }
   ],
   "source": [
    "last=employees_id.pop()\n",
    "last"
   ]
  },
  {
   "cell_type": "code",
   "execution_count": 33,
   "id": "91335ae7-fe63-4cae-beba-14b8aa63b208",
   "metadata": {},
   "outputs": [
    {
     "data": {
      "text/plain": [
       "9"
      ]
     },
     "execution_count": 33,
     "metadata": {},
     "output_type": "execute_result"
    }
   ],
   "source": [
    "len(employees_id)"
   ]
  },
  {
   "cell_type": "code",
   "execution_count": 37,
   "id": "a0cfcbb6-da54-4ed1-80b9-940640c59ebe",
   "metadata": {},
   "outputs": [
    {
     "data": {
      "text/plain": [
       "[101, 102, 'asd', 'asd', 'asd', 103, 'joe', 'joe', 'joe', 107, 108, 109]"
      ]
     },
     "execution_count": 37,
     "metadata": {},
     "output_type": "execute_result"
    }
   ],
   "source": [
    "employees_id[5]=\"joe\"\n",
    "employees_id.insert(2,\"asd\")\n",
    "employees_id"
   ]
  },
  {
   "cell_type": "code",
   "execution_count": 44,
   "id": "ded277e3-d9ea-462e-b642-fdc8fcce5f52",
   "metadata": {},
   "outputs": [
    {
     "name": "stdout",
     "output_type": "stream",
     "text": [
      "101\n",
      "102\n",
      "asd\n",
      "asd\n",
      "asd\n",
      "103\n",
      "joe\n",
      "joe\n",
      "joe\n",
      "107\n",
      "108\n",
      "109\n"
     ]
    }
   ],
   "source": [
    "for i in employees_id:\n",
    "    print(i)"
   ]
  },
  {
   "cell_type": "code",
   "execution_count": 48,
   "id": "8f360f55-57bf-4b10-bdf8-7c5b2f378fbd",
   "metadata": {},
   "outputs": [
    {
     "data": {
      "text/plain": [
       "[234, 678, 890, 2, 3, 6, 7, 90]"
      ]
     },
     "execution_count": 48,
     "metadata": {},
     "output_type": "execute_result"
    }
   ],
   "source": [
    "emp=[234,678,890,2,3,6,7,90]\n",
    "emp"
   ]
  },
  {
   "cell_type": "markdown",
   "id": "1534158e-a19a-44e6-b451-8de159ca00b7",
   "metadata": {},
   "source": [
    "emp2=emp.sort()\n",
    "emp2"
   ]
  },
  {
   "cell_type": "code",
   "execution_count": 54,
   "id": "60b2c3c5-9d0a-47f3-8243-9cda9e305c76",
   "metadata": {},
   "outputs": [],
   "source": [
    "emp2=emp.sort(reverse=True)\n",
    "emp2"
   ]
  },
  {
   "cell_type": "code",
   "execution_count": 56,
   "id": "935b4ed1-89b3-439f-bb1a-fe1b9f11dfe9",
   "metadata": {},
   "outputs": [],
   "source": [
    "emp.reverse()"
   ]
  },
  {
   "cell_type": "code",
   "execution_count": 58,
   "id": "9fcb1a4b-c1b3-42e4-809b-830e73884f77",
   "metadata": {},
   "outputs": [
    {
     "data": {
      "text/plain": [
       "[890, 678, 234, 90, 7, 6, 3, 2]"
      ]
     },
     "execution_count": 58,
     "metadata": {},
     "output_type": "execute_result"
    }
   ],
   "source": [
    "emp2=emp.copy()\n",
    "emp2"
   ]
  },
  {
   "cell_type": "code",
   "execution_count": 60,
   "id": "493e1e3e-ebbe-4761-8c44-ce0163631c6f",
   "metadata": {},
   "outputs": [
    {
     "data": {
      "text/plain": [
       "(890, 678, 234, 90, 7, 6, 3, 2)"
      ]
     },
     "execution_count": 60,
     "metadata": {},
     "output_type": "execute_result"
    }
   ],
   "source": [
    "emp_tuple=tuple(emp)\n",
    "emp_tuple"
   ]
  },
  {
   "cell_type": "code",
   "execution_count": 62,
   "id": "84046eae-bc4b-4e05-a57f-5790f4d20f7f",
   "metadata": {},
   "outputs": [
    {
     "data": {
      "text/plain": [
       "{2, 3, 6, 7, 90, 234, 678, 890}"
      ]
     },
     "execution_count": 62,
     "metadata": {},
     "output_type": "execute_result"
    }
   ],
   "source": [
    "emp=[234,678,890,2,3,6,6,7,90]\n",
    "emp_set=set(emp)\n",
    "emp_set"
   ]
  },
  {
   "cell_type": "code",
   "execution_count": null,
   "id": "91cd3cec-8d2c-4d1d-aace-a42f8f35c0b1",
   "metadata": {},
   "outputs": [],
   "source": []
  }
 ],
 "metadata": {
  "kernelspec": {
   "display_name": "Python 3 (ipykernel)",
   "language": "python",
   "name": "python3"
  },
  "language_info": {
   "codemirror_mode": {
    "name": "ipython",
    "version": 3
   },
   "file_extension": ".py",
   "mimetype": "text/x-python",
   "name": "python",
   "nbconvert_exporter": "python",
   "pygments_lexer": "ipython3",
   "version": "3.10.6"
  }
 },
 "nbformat": 4,
 "nbformat_minor": 5
}

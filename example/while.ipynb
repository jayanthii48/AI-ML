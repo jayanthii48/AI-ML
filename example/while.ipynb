{
 "cells": [
  {
   "cell_type": "code",
   "execution_count": 8,
   "id": "53513d34-c114-44f7-82e0-50f3fcb88195",
   "metadata": {},
   "outputs": [
    {
     "name": "stdout",
     "output_type": "stream",
     "text": [
      "5\n",
      "10\n",
      "15\n",
      "20\n",
      "25\n",
      "30\n",
      "35\n",
      "40\n",
      "45\n",
      "50\n",
      "55\n",
      "60\n",
      "65\n",
      "70\n",
      "75\n",
      "80\n",
      "85\n",
      "90\n",
      "95\n",
      "100\n",
      "105\n",
      "end\n"
     ]
    }
   ],
   "source": [
    "count=0\n",
    "while count <=100:\n",
    "    count=+5  \n",
    "    print(count)\n",
    "print(\"end\")"
   ]
  },
  {
   "cell_type": "code",
   "execution_count": 12,
   "id": "e9fad227-005c-4517-9e6b-a52d58118cb3",
   "metadata": {},
   "outputs": [
    {
     "name": "stdout",
     "output_type": "stream",
     "text": [
      "0\n",
      "******\n",
      "1\n",
      "******\n",
      "2\n",
      "******\n",
      "3\n",
      "******\n",
      "4\n",
      "******\n",
      "5\n",
      "******\n",
      "6\n",
      "******\n",
      "7\n",
      "******\n",
      "8\n",
      "******\n",
      "9\n",
      "******\n",
      "10\n",
      "******\n",
      "11\n",
      "******\n",
      "12\n",
      "******\n",
      "13\n",
      "******\n",
      "14\n",
      "******\n",
      "15\n",
      "******\n",
      "16\n",
      "******\n",
      "17\n",
      "******\n",
      "18\n",
      "******\n",
      "19\n",
      "******\n",
      "20\n",
      "******\n",
      "21\n",
      "******\n",
      "22\n",
      "******\n",
      "23\n",
      "******\n",
      "24\n",
      "******\n"
     ]
    }
   ],
   "source": [
    "for i in range(25):\n",
    "    \n",
    "    if(i==12):\n",
    "        pass\n",
    "    print(i)\n",
    "    print(\"******\")"
   ]
  },
  {
   "cell_type": "code",
   "execution_count": null,
   "id": "6cb45f5a-a48c-45e8-a4f5-a177c7916f59",
   "metadata": {},
   "outputs": [],
   "source": []
  }
 ],
 "metadata": {
  "kernelspec": {
   "display_name": "Python 3 (ipykernel)",
   "language": "python",
   "name": "python3"
  },
  "language_info": {
   "codemirror_mode": {
    "name": "ipython",
    "version": 3
   },
   "file_extension": ".py",
   "mimetype": "text/x-python",
   "name": "python",
   "nbconvert_exporter": "python",
   "pygments_lexer": "ipython3",
   "version": "3.11.4"
  }
 },
 "nbformat": 4,
 "nbformat_minor": 5
}
